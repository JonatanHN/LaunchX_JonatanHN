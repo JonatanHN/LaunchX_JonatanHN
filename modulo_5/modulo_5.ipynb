{
 "cells": [
  {
   "cell_type": "markdown",
   "metadata": {},
   "source": [
    "# Modulo #5"
   ]
  },
  {
   "cell_type": "markdown",
   "metadata": {},
   "source": [
    "### Problema #1"
   ]
  },
  {
   "cell_type": "code",
   "execution_count": 3,
   "metadata": {},
   "outputs": [
    {
     "name": "stdout",
     "output_type": "stream",
     "text": [
      "628949330\n",
      "390577533.93\n"
     ]
    }
   ],
   "source": [
    "sizePlanetEarth = 149597870\n",
    "sizePlanetJupiter = 778547200\n",
    "\n",
    "distance_km = sizePlanetJupiter - sizePlanetEarth\n",
    "print(distance_km)\n",
    "\n",
    "distance_ofMe = distance_km * 0.621\n",
    "print(distance_ofMe)\n"
   ]
  },
  {
   "cell_type": "markdown",
   "metadata": {},
   "source": [
    "### Problema #2"
   ]
  },
  {
   "cell_type": "code",
   "execution_count": 10,
   "metadata": {},
   "outputs": [
    {
     "name": "stdout",
     "output_type": "stream",
     "text": [
      "\n",
      "================================================================================\n",
      "Nombre del planeta: jupiter\n",
      "Tamaño del planeta: 651416161\n",
      "Distancia del planeta al sol: 404529435.981\n",
      "================================================================================\n",
      "\n"
     ]
    }
   ],
   "source": [
    "inPlanet = input(\"Cual es el nombre del planeta?\")\n",
    "inSizePlanet = input(\"Cual es el tamaño del planeta?\")\n",
    "resultDis = int(inSizePlanet) * 0.621\n",
    "\n",
    "result = f\"\"\"\n",
    "{'='*80}\n",
    "Nombre del planeta: {inPlanet}\n",
    "Tamaño del planeta: {int(inSizePlanet)}\n",
    "Distancia del planeta al sol: {abs(resultDis)}\n",
    "{'='*80}\n",
    "\"\"\"\n",
    "\n",
    "print(result)\n"
   ]
  }
 ],
 "metadata": {
  "interpreter": {
   "hash": "38740d3277777e2cd7c6c2cc9d8addf5118fdf3f82b1b39231fd12aeac8aee8b"
  },
  "kernelspec": {
   "display_name": "Python 3.10.0 64-bit",
   "language": "python",
   "name": "python3"
  },
  "language_info": {
   "codemirror_mode": {
    "name": "ipython",
    "version": 3
   },
   "file_extension": ".py",
   "mimetype": "text/x-python",
   "name": "python",
   "nbconvert_exporter": "python",
   "pygments_lexer": "ipython3",
   "version": "3.10.0"
  },
  "orig_nbformat": 4
 },
 "nbformat": 4,
 "nbformat_minor": 2
}
