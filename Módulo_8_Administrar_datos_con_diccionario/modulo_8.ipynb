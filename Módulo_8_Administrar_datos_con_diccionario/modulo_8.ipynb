{
 "cells": [
  {
   "cell_type": "markdown",
   "metadata": {},
   "source": [
    "# Modulo 8 📨\n",
    "\n",
    "#### Diccionarios"
   ]
  },
  {
   "cell_type": "code",
   "execution_count": 15,
   "metadata": {},
   "outputs": [
    {
     "name": "stdout",
     "output_type": "stream",
     "text": [
      "{'name': 'Earth', 'moons': 1}\n",
      "Earth 1\n",
      "Earth 1\n",
      "1. Nombre del planeta: Makemake \n",
      "2. Nombre del planeta: Makemake\n"
     ]
    }
   ],
   "source": [
    "# Creamos una variable que dentro contiene un diccionario\n",
    "planet = {\n",
    "    'name': 'Earth',\n",
    "    'moons': 1\n",
    "}\n",
    "# Pintamos el diccionario\n",
    "print(planet)\n",
    "#\n",
    "print(planet.get('name'), planet.get('moons'))\n",
    "#Funciona igual\n",
    "print(planet['name'], planet['moons'])\n",
    "\n",
    "# Errors\n",
    "\n",
    "# wibble = planet.get('wibble') Regresa None\n",
    "# wibble = planet['wibble']  Arroja un KeyError\n",
    "\n",
    "planet.update({'name': 'Makemake'})\n",
    "\n",
    "print(\"1. Nombre del planeta: \"+ planet.get('name'), \"\\n2. Nombre del planeta: \"+planet['name'])\n",
    "\n",
    "\n",
    "# Usando update\n",
    "# planet.update({\n",
    "#     'name': 'Jupiter',\n",
    "#     'moons': 79\n",
    "# })\n",
    "\n",
    "# Usando corchetes\n",
    "# planet['name'] = 'Jupiter'\n",
    "# planet['moons'] = 79\n",
    "\n",
    "\n",
    "# añadir mas informacion al diccionario\n",
    "# planet['orbital period'] = 4333\n",
    "\n",
    "# el diccionario planet ahora contiene: {\n",
    "#   name: 'jupiter'\n",
    "#   moons: 79\n",
    "#   orbital period: 4333\n",
    "# }\n",
    "\n",
    "# eliminar especificamente algo del diccionario\n",
    "# planet.pop('orbital period')\n",
    "\n",
    "# el diccionario planet ahora contiene: {\n",
    "#   name: 'jupiter'\n",
    "#   moons: 79\n",
    "# }\n",
    "\n",
    "# Añadimos un diccionario mas al primer diccionario\n",
    "# planet['diameter (km)'] = {\n",
    "#     'polar': 133709,\n",
    "#     'equatorial': 142984\n",
    "# }\n",
    "\n",
    "# el diccionario planet ahora contiene: {\n",
    "#   name: 'Jupiter'\n",
    "#   moons: 79\n",
    "#   diameter (km): {\n",
    "#      polar: 133709\n",
    "#      equatorial: 142984\n",
    "#   }\n",
    "# }\n",
    "\n",
    "# print(f'{planet['name']} polar diameter: {planet['diameter(km)']['polar']}')\n",
    "\n",
    "# Salida: Jupiter polar diameter: 133709\n"
   ]
  },
  {
   "cell_type": "code",
   "execution_count": 16,
   "metadata": {},
   "outputs": [
    {
     "name": "stdout",
     "output_type": "stream",
     "text": [
      "october: 3.5cm\n",
      "november: 4.2cm\n",
      "december: 2.1cm\n"
     ]
    }
   ],
   "source": [
    "#Programacion dinamica con diccionarios\n",
    "rainfall = {\n",
    "    'october': 3.5,\n",
    "    'november': 4.2,\n",
    "    'december': 2.1\n",
    "}\n",
    "\n",
    "for key in rainfall.keys():\n",
    "    print(f'{key}: {rainfall[key]}cm')\n"
   ]
  },
  {
   "cell_type": "code",
   "execution_count": null,
   "metadata": {},
   "outputs": [],
   "source": [
    "# El valor de december: 2.1cm\n",
    "\n",
    "# Si, 'december' existe en rainfall\n",
    "# if 'december' in rainfall:\n",
    "    # rainfall [en la posición december] es igual a\n",
    "    # rainfall [en la posición december] + 1 (2.1+1)\n",
    "    # rainfall['december'] = rainfall['december'] + 1\n",
    "\n",
    "# Si no:\n",
    "# else:\n",
    "\n",
    "    # rainfall [en la posición december] es igual a 1\n",
    "    # rainfall['december'] = 1\n",
    "\n",
    "# Como december si existe, el valor será 3.1\n",
    "\n",
    "\n",
    "#Total de precipitaciones 0\n",
    "# total_rainfall = 0\n",
    "\n",
    "# Para cada valor en los valores de rainfall\n",
    "# for value in rainfall.values():\n",
    "\n",
    "    # El total de las precipitaciones será igual a ese mismo + el valor que se está iterando\n",
    "\n",
    "    # total_rainfall = total_rainfall + value\n",
    "\n",
    "# Muestra 'Hay un total de precipitaciones (el valor total) en centímetros en el último cuarto (haciendo referencia al cuarto del año)\n",
    "\n",
    "# print(f'There was {total_rainfall}cm in the last quarter')\n",
    "\n",
    "# Salida:\n",
    "# There was 10.8cm in the last quarter\n"
   ]
  },
  {
   "cell_type": "markdown",
   "metadata": {},
   "source": [
    "## Problema #1 🌎\n",
    "\n",
    "#### Crear y modificar un diccionario de Python 📖"
   ]
  },
  {
   "cell_type": "code",
   "execution_count": 27,
   "metadata": {},
   "outputs": [
    {
     "name": "stdout",
     "output_type": "stream",
     "text": [
      "{'name': 'Mars', 'moons': 2, 'more': {'polar': 6752, 'equatorial': 6792}}\n",
      "Nombre de planeta: Mars \n",
      "Numero de lunas: 2 \n",
      "Distancia Polar: 6752\n"
     ]
    }
   ],
   "source": [
    "# Definimos una variable con un diccionario por valor.\n",
    "planet = {\n",
    "    \"name\": 'Mars',\n",
    "    \"moons\": 2\n",
    "}\n",
    "\n",
    "namePlanet = planet.get('name')\n",
    "numberOfMoons = planet.get('moons') \n",
    "planet['more'] = {\n",
    "    \"polar\": 6752,\n",
    "    \"equatorial\": 6792\n",
    "}\n",
    "print(planet)\n",
    "moreInfo = planet.get('more')\n",
    "polar = moreInfo[\"polar\"];\n",
    "\n",
    "print(f'Nombre de planeta: {namePlanet} \\nNumero de lunas: {numberOfMoons} \\nDistancia Polar: {polar}')\n"
   ]
  },
  {
   "cell_type": "markdown",
   "metadata": {},
   "source": [
    "## Problema #2 👀\n",
    "\n",
    "\n",
    "#### Cálculo de valores 🧮"
   ]
  },
  {
   "cell_type": "code",
   "execution_count": 32,
   "metadata": {},
   "outputs": [
    {
     "name": "stdout",
     "output_type": "stream",
     "text": [
      "17.833333333333332\n"
     ]
    }
   ],
   "source": [
    "planet_moons = {\n",
    "    'mercury': 0,\n",
    "    'venus': 0,\n",
    "    'earth': 1,\n",
    "    'mars': 2,\n",
    "    'jupiter': 79,\n",
    "    'saturn': 82,\n",
    "    'uranus': 27,\n",
    "    'neptune': 14,\n",
    "    'pluto': 5,\n",
    "    'haumea': 2,\n",
    "    'makemake': 1,\n",
    "    'eris': 1\n",
    "}\n",
    "\n",
    "moons = planet_moons.values()\n",
    "planets = len(planet_moons.keys())\n",
    "\n",
    "total_moons = 0\n",
    "\n",
    "for moon in moons: \n",
    "    total_moons = total_moons + moon\n",
    "\n",
    "average = total_moons / planets\n",
    "\n",
    "print(average)\n"
   ]
  }
 ],
 "metadata": {
  "interpreter": {
   "hash": "38740d3277777e2cd7c6c2cc9d8addf5118fdf3f82b1b39231fd12aeac8aee8b"
  },
  "kernelspec": {
   "display_name": "Python 3.10.0 64-bit",
   "language": "python",
   "name": "python3"
  },
  "language_info": {
   "codemirror_mode": {
    "name": "ipython",
    "version": 3
   },
   "file_extension": ".py",
   "mimetype": "text/x-python",
   "name": "python",
   "nbconvert_exporter": "python",
   "pygments_lexer": "ipython3",
   "version": "3.10.0"
  },
  "orig_nbformat": 4
 },
 "nbformat": 4,
 "nbformat_minor": 2
}
