{
 "cells": [
  {
   "cell_type": "markdown",
   "metadata": {},
   "source": [
    "# Modulo #3\n",
    "\n",
    "### Condicionales y Booleanos 🌠"
   ]
  },
  {
   "cell_type": "markdown",
   "metadata": {},
   "source": [
    "## Problema #1"
   ]
  },
  {
   "cell_type": "code",
   "execution_count": 12,
   "metadata": {},
   "outputs": [
    {
     "name": "stdout",
     "output_type": "stream",
     "text": [
      "Advertencia ⚠️: Huyan a algún lugar seguro, el asteroide se aproxima rapidamente a una velocidad considerable. (Esta respuesta retorna un True por defecto)\n"
     ]
    }
   ],
   "source": [
    "velocidadMax = 25\n",
    "asteroide = 49\n",
    "\n",
    "if asteroide > velocidadMax:\n",
    "        print('Advertencia ⚠️: Huyan a algún lugar seguro, el asteroide se aproxima rapidamente a una velocidad considerable. (Esta respuesta retorna un True por defecto)')\n",
    "else:\n",
    "        print('Comunicado exítoso ✅: Pueden estar tranquilos, la velocidad del asteroide es baja.(Esta respuesta retorna un False por defecto)')\n",
    "    "
   ]
  }
 ],
 "metadata": {
  "interpreter": {
   "hash": "38740d3277777e2cd7c6c2cc9d8addf5118fdf3f82b1b39231fd12aeac8aee8b"
  },
  "kernelspec": {
   "display_name": "Python 3.10.0 64-bit",
   "language": "python",
   "name": "python3"
  },
  "language_info": {
   "codemirror_mode": {
    "name": "ipython",
    "version": 3
   },
   "file_extension": ".py",
   "mimetype": "text/x-python",
   "name": "python",
   "nbconvert_exporter": "python",
   "pygments_lexer": "ipython3",
   "version": "3.10.0"
  },
  "orig_nbformat": 4
 },
 "nbformat": 4,
 "nbformat_minor": 2
}
