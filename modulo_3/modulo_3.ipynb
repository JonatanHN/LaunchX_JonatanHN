{
 "cells": [
  {
   "cell_type": "markdown",
   "metadata": {},
   "source": [
    "# Modulo #3\n",
    "\n",
    "### Condicionales y Booleanos 🌠"
   ]
  },
  {
   "cell_type": "markdown",
   "metadata": {},
   "source": [
    "## Problema #1"
   ]
  },
  {
   "cell_type": "code",
   "execution_count": 13,
   "metadata": {},
   "outputs": [
    {
     "name": "stdout",
     "output_type": "stream",
     "text": [
      "Advertencia ⚠️: Huyan a algún lugar seguro, el asteroide se aproxima rapidamente a una velocidad considerable. (Esta respuesta retorna un True por defecto)\n"
     ]
    }
   ],
   "source": [
    "velocidadMax = 25\n",
    "velociAsteroide = 49\n",
    "\n",
    "if velociAsteroide > velocidadMax:\n",
    "        print('Advertencia ⚠️: Huyan a algún lugar seguro, el asteroide se aproxima rapidamente a una velocidad considerable. (Esta respuesta retorna un True por defecto)')\n",
    "else:\n",
    "        print('Comunicado exítoso ✅: Pueden estar tranquilos, la velocidad del asteroide es baja.(Esta respuesta retorna un False por defecto)')\n",
    "    "
   ]
  },
  {
   "cell_type": "markdown",
   "metadata": {},
   "source": [
    "## Problema #2"
   ]
  },
  {
   "cell_type": "code",
   "execution_count": 15,
   "metadata": {},
   "outputs": [
    {
     "name": "stdout",
     "output_type": "stream",
     "text": [
      "Lamento informarte que el asteroide no sera visible.\n"
     ]
    }
   ],
   "source": [
    "velociAsteroide = 19\n",
    "\n",
    "if velociAsteroide > 20:\n",
    "    print('¡Alerta ⚠️: Deberias salir a contemplar un asteroide que va dejando una estela a su paso!')\n",
    "elif velociAsteroide == 20:\n",
    "    print('¡Alerta ⚠️: Deberias salir a contemplar un asteroide que va dejando una estela a su paso!')\n",
    "else:\n",
    "    print('Lamento informarte que el asteroide no sera visible.')\n"
   ]
  },
  {
   "cell_type": "markdown",
   "metadata": {},
   "source": [
    "## Problemas #3"
   ]
  },
  {
   "cell_type": "code",
   "execution_count": 21,
   "metadata": {},
   "outputs": [
    {
     "name": "stdout",
     "output_type": "stream",
     "text": [
      "Alerta ⚠️: El asteroide viene a una velocidad considerable y su tamaño es imponente.\n"
     ]
    }
   ],
   "source": [
    "dimAsteroideMin = 1005\n",
    "velocidadMax = 25\n",
    "velociAsteroide = 40\n",
    "\n",
    "if velociAsteroide > velocidadMax and dimAsteroideMin <=1000:\n",
    "    print('Alerta ⚠️: Un asteroide causara una gran colisión al impactarse con la tierra.')\n",
    "elif velociAsteroide >= velocidadMax:\n",
    "    print('Alerta ⚠️: El asteroide viene a una velocidad considerable y su tamaño es imponente.')\n",
    "else: \n",
    "    print('Todo esta friamente calculado 😁✅')\n",
    "\n",
    "\n"
   ]
  }
 ],
 "metadata": {
  "interpreter": {
   "hash": "38740d3277777e2cd7c6c2cc9d8addf5118fdf3f82b1b39231fd12aeac8aee8b"
  },
  "kernelspec": {
   "display_name": "Python 3.10.0 64-bit",
   "language": "python",
   "name": "python3"
  },
  "language_info": {
   "codemirror_mode": {
    "name": "ipython",
    "version": 3
   },
   "file_extension": ".py",
   "mimetype": "text/x-python",
   "name": "python",
   "nbconvert_exporter": "python",
   "pygments_lexer": "ipython3",
   "version": "3.10.0"
  },
  "orig_nbformat": 4
 },
 "nbformat": 4,
 "nbformat_minor": 2
}
