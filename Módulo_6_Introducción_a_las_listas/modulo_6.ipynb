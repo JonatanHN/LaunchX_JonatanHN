{
 "cells": [
  {
   "cell_type": "markdown",
   "metadata": {},
   "source": [
    "# Modulo #6"
   ]
  },
  {
   "cell_type": "markdown",
   "metadata": {},
   "source": [
    "### Problema #1"
   ]
  },
  {
   "cell_type": "code",
   "execution_count": 3,
   "metadata": {},
   "outputs": [
    {
     "name": "stdout",
     "output_type": "stream",
     "text": [
      "['Marte', 'Neptuno', 'Urano', 'Saturno', 'Júpiter', 'Venus', 'Mercurio', 'Tierra', 'plúton']\n"
     ]
    }
   ],
   "source": [
    "planets = [\"Marte\",\"Neptuno\",\"Urano\",\"Saturno\",\"Júpiter\",\"Venus\",\"Mercurio\",\"Tierra\"]\n",
    "\n",
    "planets.append(\"plúton\")\n",
    "\n",
    "print(planets)"
   ]
  },
  {
   "cell_type": "markdown",
   "metadata": {},
   "source": [
    "### Problema #2"
   ]
  },
  {
   "cell_type": "code",
   "execution_count": 10,
   "metadata": {},
   "outputs": [
    {
     "name": "stdout",
     "output_type": "stream",
     "text": [
      "Aquí están los planetas más cercanos que Earth\n",
      "['Mercury', 'Venus']\n",
      "Aquí están los planetas más lejanos que Earth\n",
      "['Mars', 'Jupiter', 'Saturn', 'Neptune']\n"
     ]
    }
   ],
   "source": [
    "planets = ['Mercury', 'Venus', 'Earth', 'Mars', 'Jupiter', 'Saturn', 'Neptune']\n",
    "\n",
    "sPlanet = input('Que planeta quieres buscar? (Por favor ingrese el nombre del planeta)')\n",
    "\n",
    "result = planets.index(sPlanet);\n",
    "\n",
    "print('Aquí están los planetas más cercanos que ' + sPlanet)\n",
    "print(planets[0:result])\n",
    "\n",
    "print('Aquí están los planetas más lejanos que ' + sPlanet)\n",
    "print(planets[result + 1:])"
   ]
  }
 ],
 "metadata": {
  "interpreter": {
   "hash": "38740d3277777e2cd7c6c2cc9d8addf5118fdf3f82b1b39231fd12aeac8aee8b"
  },
  "kernelspec": {
   "display_name": "Python 3.10.0 64-bit",
   "language": "python",
   "name": "python3"
  },
  "language_info": {
   "codemirror_mode": {
    "name": "ipython",
    "version": 3
   },
   "file_extension": ".py",
   "mimetype": "text/x-python",
   "name": "python",
   "nbconvert_exporter": "python",
   "pygments_lexer": "ipython3",
   "version": "3.10.0"
  },
  "orig_nbformat": 4
 },
 "nbformat": 4,
 "nbformat_minor": 2
}
