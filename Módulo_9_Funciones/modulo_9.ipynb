{
 "cells": [
  {
   "cell_type": "markdown",
   "metadata": {},
   "source": [
    "# Módulo #9 🚀"
   ]
  },
  {
   "cell_type": "markdown",
   "metadata": {},
   "source": [
    "## Problema #1 🐦\n",
    "\n",
    "#### Trabajar con argumentos en funciones"
   ]
  },
  {
   "cell_type": "code",
   "execution_count": 16,
   "metadata": {},
   "outputs": [
    {
     "name": "stdout",
     "output_type": "stream",
     "text": [
      "================================================================================\n",
      "Calculo total de tanques: 73.33333333333333 % \n",
      "Tanque de oxígeno: 90 % \n",
      "Tanque de combustible: 60 % \n",
      "Tanque de nitrogeno:  70% \n",
      "================================================================================\n",
      "Resultado de la funcion calculo: 82.0\n"
     ]
    }
   ],
   "source": [
    "# Definimos la funcion pasandole argumentos en los parametros.\n",
    "def tanks(tankOne, tankTwo, tankThree):\n",
    "    # Dividimos los valores entre 3\n",
    "    calculation = (tankOne + tankTwo + tankThree) / 3\n",
    "    # Retornamos la respuesta\n",
    "    return f'{\"=\"*80}\\nCalculo total de tanques: {calculation} % \\nTanque de oxígeno: {tankOne} % \\nTanque de combustible: {tankTwo} % \\nTanque de nitrogeno:  {tankThree}% \\n{\"=\"*80}'\n",
    "\n",
    "#Llamamos a la funcion y le pasamos los argumentos ya con valores.\n",
    "print(tanks(90,60,70))\n",
    "\n",
    "# Definimos una funcion y tambien le pasamos un argumento.\n",
    "def calculo(values):\n",
    "    # Sumamos los valores pasados por medio de los argumentos de la funcion.\n",
    "    total = sum(values)\n",
    "    # Listamos en numero los valores.\n",
    "    numberItems = len(values)\n",
    "    # Retornamos la respuesta dividida una vez que se retorne.\n",
    "    return print(f'Resultado de la funcion calculo: {total / numberItems}')\n",
    "\n",
    "# Ejecutamos la funcion pasandole valores por medio de los argumentos.\n",
    "calculo([80, 85, 81])\n"
   ]
  },
  {
   "cell_type": "markdown",
   "metadata": {},
   "source": [
    "## Problema #2 👀\n",
    "\n",
    "#### Trabajar con argumentos de palabras clave en funciones"
   ]
  },
  {
   "cell_type": "code",
   "execution_count": 22,
   "metadata": {},
   "outputs": [
    {
     "name": "stdout",
     "output_type": "stream",
     "text": [
      "\n",
      "    Destino de la misión: Mars\n",
      "    Tiempo total de viaje: 29 minutos.\n",
      "    Combustible total: 30000 galones.\n",
      "    ================================================================================\n",
      "    \n"
     ]
    }
   ],
   "source": [
    "# Definimos una funcion llamada reporte\n",
    "def reporte(prelanzamiento, tiempoDeVuelo, destino, tankExternal, tankPrincipal):\n",
    "    return f\"\"\"\n",
    "    Destino de la misión: {destino}\n",
    "    Tiempo total de viaje: {prelanzamiento + tiempoDeVuelo} minutos.\n",
    "    Combustible total: {tankExternal + tankPrincipal} galones.\n",
    "    {\"=\"*80}\n",
    "    \"\"\"\n",
    "print(reporte(5,24,\"Mars\", 20000, 10000))\n",
    "# Problema #2\n"
   ]
  },
  {
   "cell_type": "code",
   "execution_count": 23,
   "metadata": {},
   "outputs": [
    {
     "name": "stdout",
     "output_type": "stream",
     "text": [
      "\n",
      "    Mision a: Earth\n",
      "    Tiempo total de viaje: 50 minutos.\n",
      "    Combustible total: 30000\n",
      "    ================================================================================\n",
      "    \n"
     ]
    }
   ],
   "source": [
    "def reporteTwo(destinoTwo,*minutos,**gasolina):\n",
    "    return f\"\"\"\n",
    "    Mision a: {destinoTwo}\n",
    "    Tiempo total de viaje: {sum(minutos)} minutos.\n",
    "    Combustible total: {sum(gasolina.values())}\n",
    "    {\"=\"*80}\n",
    "    \"\"\"\n",
    "print(reporteTwo(\"Earth\",25,15,10,principal=10000,externo=20000))"
   ]
  },
  {
   "cell_type": "code",
   "execution_count": 36,
   "metadata": {},
   "outputs": [
    {
     "name": "stdout",
     "output_type": "stream",
     "text": [
      "\n",
      "    Destino de la mision: Jupyter.\n",
      "    Tiempo total de viaje: 50 minutos.\n",
      "    Combustible total restante: 50000\n",
      "    maintank => 10000 galones restantes.\n",
      "externaltank => 40000 galones restantes.\n",
      "\n"
     ]
    }
   ],
   "source": [
    "def report_mission(destinoThree, *minutosOne, **gasolinaTwo):\n",
    "    reportePrincipal = f\"\"\"\n",
    "    Destino de la mision: {destinoThree}.\n",
    "    Tiempo total de viaje: {sum(minutosOne)} minutos.\n",
    "    Combustible total restante: {sum(gasolinaTwo.values())}\n",
    "    \"\"\"\n",
    "    for nombreTanque, galones in gasolinaTwo.items():\n",
    "        reportePrincipal += f\"{nombreTanque}tank => {galones} galones restantes.\\n\"\n",
    "    return reportePrincipal\n",
    "\n",
    "print(report_mission(\"Jupyter\", 15,15,20, main=10000,external=40000))"
   ]
  }
 ],
 "metadata": {
  "interpreter": {
   "hash": "38740d3277777e2cd7c6c2cc9d8addf5118fdf3f82b1b39231fd12aeac8aee8b"
  },
  "kernelspec": {
   "display_name": "Python 3.10.0 64-bit",
   "language": "python",
   "name": "python3"
  },
  "language_info": {
   "codemirror_mode": {
    "name": "ipython",
    "version": 3
   },
   "file_extension": ".py",
   "mimetype": "text/x-python",
   "name": "python",
   "nbconvert_exporter": "python",
   "pygments_lexer": "ipython3",
   "version": "3.10.2"
  },
  "orig_nbformat": 4
 },
 "nbformat": 4,
 "nbformat_minor": 2
}
