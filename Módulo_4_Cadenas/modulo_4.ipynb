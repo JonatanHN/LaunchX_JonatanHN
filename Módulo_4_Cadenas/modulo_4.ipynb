{
 "cells": [
  {
   "cell_type": "markdown",
   "metadata": {},
   "source": [
    "# Modulo #4\n",
    "\n"
   ]
  },
  {
   "cell_type": "markdown",
   "metadata": {},
   "source": [
    "### Problema #1"
   ]
  },
  {
   "cell_type": "code",
   "execution_count": 16,
   "metadata": {},
   "outputs": [
    {
     "name": "stdout",
     "output_type": "stream",
     "text": [
      "There are several interesting facts about the Moon and how it affects life here on Earth.\n",
      "On average, the Moon moves 4cm away from the Earth every year\n",
      "The highest daylight temperature of the Moon is 127 Celsíus.\n"
     ]
    }
   ],
   "source": [
    "texto = \"\"\"Interesting facts about the Moon. The Moon is Earth's only satellite. There are several interesting facts about the Moon and how it affects life here on Earth.\n",
    "On average, the Moon moves 4cm away from the Earth every year. This yearly drift is not significant enough to cause immediate effects on Earth. The highest daylight temperature of the Moon is 127 C.\"\"\"\n",
    "\n",
    "separador = texto.split('. ')\n",
    "separador\n",
    "palabras = [\"average\", \"temperature\", \"distance\"]\n",
    "\n",
    "for sentencia in separador:\n",
    "    for palabra in palabras:\n",
    "        if palabra in sentencia:\n",
    "            print(sentencia.replace(' C', ' Celsíus'))\n",
    "            break\n"
   ]
  },
  {
   "cell_type": "markdown",
   "metadata": {},
   "source": [
    "### Problema #2"
   ]
  },
  {
   "cell_type": "code",
   "execution_count": 41,
   "metadata": {},
   "outputs": [
    {
     "name": "stdout",
     "output_type": "stream",
     "text": [
      "\n",
      "Datos De Gravedad Sobre Saturno \n",
      "================================================================================ \n",
      "Nombre del planeta: Saturno \n",
      "Gravedad en Saturno: 1.6199999999999999 m/s2 \n",
      "================================================================================\n",
      " \n",
      "\n",
      "\n",
      "Datos de Gravedad sobre Ganímedes\n",
      "================================================================================\n",
      "Nombre del planeta: Marte \n",
      "Gravedad en Ganímedes: 1.4300000000000002 m/s2\n",
      "================================================================================\n",
      "\n"
     ]
    }
   ],
   "source": [
    "planeta = \"Saturno\"\n",
    "gravedad = 0.00162  # in kms\n",
    "nombre = \"Saturno\"\n",
    "\n",
    "titulo = f'Datos de gravedad sobre {nombre}'\n",
    "\n",
    "datos = f\"\"\"{'='*80} \n",
    "Nombre del planeta: {planeta} \n",
    "Gravedad en {nombre}: {gravedad * 1000} m/s2 \n",
    "{'='*80}\n",
    "\"\"\"\n",
    "\n",
    "template = f\"\"\"\n",
    "{titulo.title()} \n",
    "{datos} \n",
    "\"\"\"\n",
    "print(template)\n",
    "\n",
    "planet = 'Marte '\n",
    "gravity = 0.00143\n",
    "name = 'Ganímedes'\n",
    "\n",
    "\n",
    "data = f\"\"\"{'='*80}\n",
    "Nombre del planeta: {planet}\n",
    "Gravedad en {name}: {gravity}\n",
    "{'='*80}\n",
    "\"\"\"\n",
    "\n",
    "new_template = \"\"\"\n",
    "Datos de Gravedad sobre {name}\n",
    "================================================================================\n",
    "Nombre del planeta: {planet}\n",
    "Gravedad en {name}: {gravity} m/s2\n",
    "================================================================================\n",
    "\"\"\"\n",
    "\n",
    "print(new_template.format(name=name, planet=planet, gravity=gravity*1000))"
   ]
  }
 ],
 "metadata": {
  "interpreter": {
   "hash": "38740d3277777e2cd7c6c2cc9d8addf5118fdf3f82b1b39231fd12aeac8aee8b"
  },
  "kernelspec": {
   "display_name": "Python 3.10.0 64-bit",
   "language": "python",
   "name": "python3"
  },
  "language_info": {
   "codemirror_mode": {
    "name": "ipython",
    "version": 3
   },
   "file_extension": ".py",
   "mimetype": "text/x-python",
   "name": "python",
   "nbconvert_exporter": "python",
   "pygments_lexer": "ipython3",
   "version": "3.10.0"
  },
  "orig_nbformat": 4
 },
 "nbformat": 4,
 "nbformat_minor": 2
}
