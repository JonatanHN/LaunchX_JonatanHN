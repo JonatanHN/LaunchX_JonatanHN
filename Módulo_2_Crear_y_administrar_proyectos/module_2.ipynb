{
 "cells": [
  {
   "cell_type": "markdown",
   "metadata": {},
   "source": [
    "# Modulo #2\n",
    "\n",
    "### Creando un entorno virtual 👨🏻‍💻"
   ]
  },
  {
   "cell_type": "markdown",
   "metadata": {},
   "source": [
    "![img_env](../img/env.png)"
   ]
  }
 ],
 "metadata": {
  "language_info": {
   "name": "python"
  },
  "orig_nbformat": 4
 },
 "nbformat": 4,
 "nbformat_minor": 2
}
